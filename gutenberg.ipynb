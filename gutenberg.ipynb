{
 "cells": [
  {
   "cell_type": "code",
   "execution_count": 1,
   "id": "24e42dc1",
   "metadata": {},
   "outputs": [
    {
     "name": "stdout",
     "output_type": "stream",
     "text": [
      "\n",
      "# conda environments:\n",
      "#\n",
      "base                   C:\\Users\\86135\\miniconda3\n",
      "dygiepp                C:\\Users\\86135\\miniconda3\\envs\\dygiepp\n",
      "h501-gutenberg       * C:\\Users\\86135\\miniconda3\\envs\\h501-gutenberg\n",
      "\n"
     ]
    }
   ],
   "source": [
    "!conda env list"
   ]
  },
  {
   "cell_type": "code",
   "execution_count": 10,
   "id": "c7705d68",
   "metadata": {},
   "outputs": [],
   "source": [
    "import pandas\n",
    "gutenberg_authors = pandas.read_csv('https://raw.githubusercontent.com/rfordatascience/tidytuesday/main/data/2025/2025-06-03/gutenberg_authors.csv')\n",
    "gutenberg_languages = pandas.read_csv('https://raw.githubusercontent.com/rfordatascience/tidytuesday/main/data/2025/2025-06-03/gutenberg_languages.csv')\n",
    "gutenberg_metadata = pandas.read_csv('https://raw.githubusercontent.com/rfordatascience/tidytuesday/main/data/2025/2025-06-03/gutenberg_metadata.csv')\n",
    "gutenberg_subjects = pandas.read_csv('https://raw.githubusercontent.com/rfordatascience/tidytuesday/main/data/2025/2025-06-03/gutenberg_subjects.csv')"
   ]
  },
  {
   "cell_type": "code",
   "execution_count": 16,
   "id": "2f156740",
   "metadata": {},
   "outputs": [
    {
     "name": "stdout",
     "output_type": "stream",
     "text": [
      "authors \n",
      "    gutenberg_author_id            author                      alias  \\\n",
      "0                    1     United States                     U.S.A.   \n",
      "1                    3  Lincoln, Abraham                        NaN   \n",
      "2                    4    Henry, Patrick                        NaN   \n",
      "3                    5        Adam, Paul                        NaN   \n",
      "4                    7    Carroll, Lewis  Dodgson, Charles Lutwidge   \n",
      "\n",
      "   birthdate  deathdate                                          wikipedia  \\\n",
      "0        NaN        NaN        https://en.wikipedia.org/wiki/United_States   \n",
      "1     1809.0     1865.0      https://en.wikipedia.org/wiki/Abraham_Lincoln   \n",
      "2     1736.0     1799.0        https://en.wikipedia.org/wiki/Patrick_Henry   \n",
      "3     1849.0     1931.0  https://de.wikipedia.org/wiki/Paul_Adam_(Buchb...   \n",
      "4     1832.0     1898.0        https://en.wikipedia.org/wiki/Lewis_Carroll   \n",
      "\n",
      "                                            aliases  \n",
      "0                                            U.S.A.  \n",
      "1  United States President (1861-1865)/Lincoln, Abe  \n",
      "2                                               NaN  \n",
      "3                                               NaN  \n",
      "4                         Dodgson, Charles Lutwidge  \n",
      "languages \n",
      "    gutenberg_id language  total_languages\n",
      "0             1       en                1\n",
      "1             2       en                1\n",
      "2             3       en                1\n",
      "3             4       en                1\n",
      "4             5       en                1\n",
      "metadata \n",
      "    gutenberg_id                                              title  \\\n",
      "0             1  The Declaration of Independence of the United ...   \n",
      "1             2  The United States Bill of Rights\\r\\nThe Ten Or...   \n",
      "2             3                John F. Kennedy's Inaugural Address   \n",
      "3             4  Lincoln's Gettysburg Address\\r\\nGiven November...   \n",
      "4             5                     The United States Constitution   \n",
      "\n",
      "                               author  gutenberg_author_id language  \\\n",
      "0                   Jefferson, Thomas               1638.0       en   \n",
      "1                       United States                  1.0       en   \n",
      "2  Kennedy, John F. (John Fitzgerald)               1666.0       en   \n",
      "3                    Lincoln, Abraham                  3.0       en   \n",
      "4                       United States                  1.0       en   \n",
      "\n",
      "                                 gutenberg_bookshelf  \\\n",
      "0  Politics/American Revolutionary War/United Sta...   \n",
      "1  Politics/American Revolutionary War/United Sta...   \n",
      "2    Browsing: History - American/Browsing: Politics   \n",
      "3  US Civil War/Browsing: History - American/Brow...   \n",
      "4  United States/Politics/American Revolutionary ...   \n",
      "\n",
      "                      rights  has_text  \n",
      "0  Public domain in the USA.      True  \n",
      "1  Public domain in the USA.      True  \n",
      "2  Public domain in the USA.      True  \n",
      "3  Public domain in the USA.      True  \n",
      "4  Public domain in the USA.      True  \n",
      "subjects \n",
      "    gutenberg_id subject_type  \\\n",
      "0             1         lcsh   \n",
      "1             1         lcsh   \n",
      "2             1          lcc   \n",
      "3             1          lcc   \n",
      "4             2         lcsh   \n",
      "\n",
      "                                             subject  \n",
      "0  United States -- History -- Revolution, 1775-1...  \n",
      "1         United States. Declaration of Independence  \n",
      "2                                               E201  \n",
      "3                                                 JK  \n",
      "4           Civil rights -- United States -- Sources  \n"
     ]
    }
   ],
   "source": [
    "print(\"authors\", '\\n', gutenberg_authors.head())\n",
    "print(\"languages\", '\\n', gutenberg_languages.head())\n",
    "print(\"metadata\", '\\n', gutenberg_metadata.head())\n",
    "print(\"subjects\", '\\n', gutenberg_subjects.head())\n",
    "# pydytuesday.get_date('2025-06-03') --- IGNORE ---"
   ]
  }
 ],
 "metadata": {
  "kernelspec": {
   "display_name": "h501-gutenberg",
   "language": "python",
   "name": "python3"
  },
  "language_info": {
   "codemirror_mode": {
    "name": "ipython",
    "version": 3
   },
   "file_extension": ".py",
   "mimetype": "text/x-python",
   "name": "python",
   "nbconvert_exporter": "python",
   "pygments_lexer": "ipython3",
   "version": "3.9.23"
  }
 },
 "nbformat": 4,
 "nbformat_minor": 5
}
